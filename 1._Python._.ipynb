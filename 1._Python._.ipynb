{
 "cells": [
  {
   "cell_type": "markdown",
   "metadata": {
    "id": "bRxmqZOhWY87"
   },
   "source": [
    "# Базовые элементы Python\n",
    "\n"
   ]
  },
  {
   "cell_type": "markdown",
   "metadata": {
    "id": "zimA9OEsXOLW"
   },
   "source": [
    "### 1. Переменные\n",
    "\n",
    "**Переменные** можем рассмартивать как контейнер, который хранит часть **информации** в виде числел или текста."
   ]
  },
  {
   "cell_type": "code",
   "execution_count": 1,
   "metadata": {
    "id": "pV1YfnLSXOq6"
   },
   "outputs": [
    {
     "name": "stdout",
     "output_type": "stream",
     "text": [
      "14\n"
     ]
    }
   ],
   "source": [
    "# Сохраним в переменную число и выведем её значение на экран\n",
    "a = 14\n",
    "print(a)"
   ]
  },
  {
   "cell_type": "code",
   "execution_count": 2,
   "metadata": {
    "id": "DkD4O1acWix8"
   },
   "outputs": [
    {
     "name": "stdout",
     "output_type": "stream",
     "text": [
      "Здесь записан некоторый текст\n"
     ]
    }
   ],
   "source": [
    "# Аналогчино сделаем с текстом\n",
    "b = 'Здесь записан некоторый текст'\n",
    "print(b)"
   ]
  },
  {
   "cell_type": "markdown",
   "metadata": {
    "id": "R0QT0wxIXggf"
   },
   "source": [
    "### 2. Действия с переменными и типы данных"
   ]
  },
  {
   "cell_type": "code",
   "execution_count": 3,
   "metadata": {
    "id": "eEqpciAiXjCZ"
   },
   "outputs": [
    {
     "name": "stdout",
     "output_type": "stream",
     "text": [
      "17\n"
     ]
    }
   ],
   "source": [
    "# Просуммируем переменные\n",
    "a = 14\n",
    "c = 3\n",
    "d = a + c\n",
    "print(d)"
   ]
  },
  {
   "cell_type": "code",
   "execution_count": 4,
   "metadata": {
    "id": "d9w3MZg-XMqt"
   },
   "outputs": [
    {
     "name": "stdout",
     "output_type": "stream",
     "text": [
      "17\n"
     ]
    }
   ],
   "source": [
    "# Либо можно сделать так\n",
    "print(a+c)"
   ]
  },
  {
   "cell_type": "code",
   "execution_count": 5,
   "metadata": {
    "colab": {
     "base_uri": "https://localhost:8080/"
    },
    "executionInfo": {
     "elapsed": 784,
     "status": "ok",
     "timestamp": 1632999513827,
     "user": {
      "displayName": "Anna Bogatkina",
      "photoUrl": "https://lh3.googleusercontent.com/a-/AOh14GhCrVQ43IyQRpNNPdazw5mJx9rZykIz_f8bSAD1KNM=s64",
      "userId": "12751365131747006629"
     },
     "user_tz": -180
    },
    "id": "pPUxe1beWcDX",
    "outputId": "8ad12944-bf6d-42b3-d6ea-c964039f836b"
   },
   "outputs": [
    {
     "name": "stdout",
     "output_type": "stream",
     "text": [
      "18\n"
     ]
    }
   ],
   "source": [
    "# Можно ли изменить значение переменной?\n",
    "a = 18\n",
    "print(a)"
   ]
  },
  {
   "cell_type": "code",
   "execution_count": 6,
   "metadata": {
    "colab": {
     "base_uri": "https://localhost:8080/"
    },
    "executionInfo": {
     "elapsed": 261,
     "status": "ok",
     "timestamp": 1632999526729,
     "user": {
      "displayName": "Anna Bogatkina",
      "photoUrl": "https://lh3.googleusercontent.com/a-/AOh14GhCrVQ43IyQRpNNPdazw5mJx9rZykIz_f8bSAD1KNM=s64",
      "userId": "12751365131747006629"
     },
     "user_tz": -180
    },
    "id": "ZYe3vqeQXznr",
    "outputId": "615eac4c-bc14-4c6d-9b4f-8ec9b1f8152a"
   },
   "outputs": [
    {
     "name": "stdout",
     "output_type": "stream",
     "text": [
      "18\n"
     ]
    }
   ],
   "source": [
    "# Равенство переменных\n",
    "e = a\n",
    "print(e)"
   ]
  },
  {
   "cell_type": "code",
   "execution_count": 7,
   "metadata": {
    "colab": {
     "base_uri": "https://localhost:8080/"
    },
    "executionInfo": {
     "elapsed": 369,
     "status": "ok",
     "timestamp": 1632999539990,
     "user": {
      "displayName": "Anna Bogatkina",
      "photoUrl": "https://lh3.googleusercontent.com/a-/AOh14GhCrVQ43IyQRpNNPdazw5mJx9rZykIz_f8bSAD1KNM=s64",
      "userId": "12751365131747006629"
     },
     "user_tz": -180
    },
    "id": "jzgNJ_MLX8a3",
    "outputId": "87fe417d-aad4-4d7a-a7aa-d34ee9f6c638"
   },
   "outputs": [
    {
     "name": "stdout",
     "output_type": "stream",
     "text": [
      "1\n",
      "<class 'int'>\n",
      "5.0\n",
      "<class 'float'>\n",
      "True\n",
      "<class 'bool'>\n",
      "7\n",
      "<class 'str'>\n"
     ]
    }
   ],
   "source": [
    "# Типы данных в Python\n",
    "\n",
    "# Integer (целочисленные)\n",
    "a = 1\n",
    "print(a)\n",
    "print(type(a))\n",
    "\n",
    "# Float (числа с плавающей точкой)\n",
    "a = 5.0\n",
    "print(a)\n",
    "print(type(a))\n",
    "\n",
    "# Boolean (логический тип - ИСТИНА/ЛОЖЬ)\n",
    "a = True\n",
    "print(a)\n",
    "print(type(a))\n",
    "\n",
    "# String (строковый тип)\n",
    "a = \"7\" \n",
    "print(a)\n",
    "print(type(a))"
   ]
  },
  {
   "cell_type": "code",
   "execution_count": 8,
   "metadata": {
    "colab": {
     "base_uri": "https://localhost:8080/"
    },
    "executionInfo": {
     "elapsed": 280,
     "status": "ok",
     "timestamp": 1632999590446,
     "user": {
      "displayName": "Anna Bogatkina",
      "photoUrl": "https://lh3.googleusercontent.com/a-/AOh14GhCrVQ43IyQRpNNPdazw5mJx9rZykIz_f8bSAD1KNM=s64",
      "userId": "12751365131747006629"
     },
     "user_tz": -180
    },
    "id": "fzBecq7OYWl1",
    "outputId": "4bfaba0d-396b-4675-b2ca-7e9b83c35fb7"
   },
   "outputs": [
    {
     "name": "stdout",
     "output_type": "stream",
     "text": [
      "19\n",
      "<class 'int'>\n",
      "12\n",
      "<class 'str'>\n"
     ]
    }
   ],
   "source": [
    "# Обращайте внимание на операции с разными типами данных\n",
    "\n",
    "x = 15\n",
    "y = 4\n",
    "z = x + y\n",
    "print(z)\n",
    "print(type(z))\n",
    "\n",
    "# string variables\n",
    "x = \"1\"\n",
    "y = \"2\"\n",
    "z = x + y\n",
    "print(z)\n",
    "print(type(z))"
   ]
  },
  {
   "cell_type": "markdown",
   "metadata": {
    "id": "WDOkE_pGY8j_"
   },
   "source": [
    "### 3. Списки\n",
    "**Списки** очень полезны в программировании. Их тоже можно сравнить с контейнерами, но с разными отсеками, где каждый отсек хранит другую переменную."
   ]
  },
  {
   "cell_type": "code",
   "execution_count": 9,
   "metadata": {
    "colab": {
     "base_uri": "https://localhost:8080/"
    },
    "executionInfo": {
     "elapsed": 253,
     "status": "ok",
     "timestamp": 1633001207995,
     "user": {
      "displayName": "Anna Bogatkina",
      "photoUrl": "https://lh3.googleusercontent.com/a-/AOh14GhCrVQ43IyQRpNNPdazw5mJx9rZykIz_f8bSAD1KNM=s64",
      "userId": "12751365131747006629"
     },
     "user_tz": -180
    },
    "id": "ePI9jV8gZP3Y",
    "outputId": "ba10b133-df92-435e-b6a8-36116f5a46ff"
   },
   "outputs": [
    {
     "name": "stdout",
     "output_type": "stream",
     "text": [
      "[1, 2, 3]\n"
     ]
    }
   ],
   "source": [
    "# Простой массив из целых чисел в виде списка в Python\n",
    "a = [1,2,3]\n",
    "print(a)"
   ]
  },
  {
   "cell_type": "code",
   "execution_count": 10,
   "metadata": {
    "colab": {
     "base_uri": "https://localhost:8080/"
    },
    "executionInfo": {
     "elapsed": 567,
     "status": "ok",
     "timestamp": 1633001172287,
     "user": {
      "displayName": "Anna Bogatkina",
      "photoUrl": "https://lh3.googleusercontent.com/a-/AOh14GhCrVQ43IyQRpNNPdazw5mJx9rZykIz_f8bSAD1KNM=s64",
      "userId": "12751365131747006629"
     },
     "user_tz": -180
    },
    "id": "2CEfuPglZDex",
    "outputId": "e37266e2-b12e-4a0e-df02-0e6417795c48"
   },
   "outputs": [
    {
     "name": "stdout",
     "output_type": "stream",
     "text": [
      "['Text', 4, 2.5]\n"
     ]
    }
   ],
   "source": [
    "# Можно хранить переменные разных типов\n",
    "b =  [\"Text\", 4, 2.5]\n",
    "print(b)"
   ]
  },
  {
   "cell_type": "code",
   "execution_count": 11,
   "metadata": {
    "id": "pYkAvDCSYuXy"
   },
   "outputs": [
    {
     "name": "stdout",
     "output_type": "stream",
     "text": [
      "1\n",
      "2\n",
      "3\n"
     ]
    }
   ],
   "source": [
    "# Использование индексов списков для получения определенных элементов массива\n",
    "\n",
    "# Как вывести каждый элемент списка отдельно?\n",
    "print(a[0])\n",
    "print(a[1])\n",
    "print(a[2])\n",
    "# Индексы в списках нумеруются числами, начиная с 0. Т.е. список, в котором 3 элемента, имеет индекса 0, 1 и 2."
   ]
  },
  {
   "cell_type": "code",
   "execution_count": 12,
   "metadata": {
    "colab": {
     "base_uri": "https://localhost:8080/"
    },
    "executionInfo": {
     "elapsed": 325,
     "status": "ok",
     "timestamp": 1633001211928,
     "user": {
      "displayName": "Anna Bogatkina",
      "photoUrl": "https://lh3.googleusercontent.com/a-/AOh14GhCrVQ43IyQRpNNPdazw5mJx9rZykIz_f8bSAD1KNM=s64",
      "userId": "12751365131747006629"
     },
     "user_tz": -180
    },
    "id": "r2yL5VOMZ2xA",
    "outputId": "e25ca2fd-d7cb-4b97-8a9a-cff7816943b4"
   },
   "outputs": [
    {
     "name": "stdout",
     "output_type": "stream",
     "text": [
      "[1, 2, 3, 4]\n"
     ]
    }
   ],
   "source": [
    "# Добавление большего количества элементов в список\n",
    "\n",
    "a.append(4)\n",
    "print(a)"
   ]
  },
  {
   "cell_type": "code",
   "execution_count": 13,
   "metadata": {
    "id": "PkLqatC9Z9b1"
   },
   "outputs": [
    {
     "name": "stdout",
     "output_type": "stream",
     "text": [
      "4\n"
     ]
    }
   ],
   "source": [
    "# Определение количества элементов в списке\n",
    "print(len(a))"
   ]
  },
  {
   "cell_type": "code",
   "execution_count": 14,
   "metadata": {
    "id": "8YqFs7x7aFiJ"
   },
   "outputs": [
    {
     "name": "stdout",
     "output_type": "stream",
     "text": [
      "[1, 2, 3, 5]\n"
     ]
    }
   ],
   "source": [
    "# Изменение значения элемента в списке\n",
    "\n",
    "a[3] = 5\n",
    "print(a)"
   ]
  },
  {
   "cell_type": "code",
   "execution_count": 15,
   "metadata": {
    "id": "ASXqbJojaNcI"
   },
   "outputs": [
    {
     "name": "stdout",
     "output_type": "stream",
     "text": [
      "Все элементы:  [1, 2, 3, 5]\n",
      "Все элементы с 3й позиции до последнего:  [3, 5]\n",
      "Все элементы между 2й и 4й позицией:  [2, 3]\n",
      "Все элементы, кроме последнего [1, 2, 3]\n"
     ]
    }
   ],
   "source": [
    "# Нарезка списков-это метод, используемый для получения элементов из различных индексов, до них или между ними\n",
    "\n",
    "# Обратите внимание:\n",
    "\n",
    "#a[start:stop]  # нарезка списка начинается с элемента start до элемента stop-1\n",
    "#a[start:]      # нарезка списка начинается с элемента start до последнего элемента в массиве\n",
    "#a[:stop]       # нарезка списка начинается с начального элемента до элемента stop-1\n",
    "#a[:]           # копия целого списка\n",
    "\n",
    "print(\"Все элементы: \", a[:])\n",
    "print(\"Все элементы с 3й позиции до последнего: \", a[2:])\n",
    "print(\"Все элементы между 2й и 4й позицией: \", a[1:3])\n",
    "print(\"Все элементы, кроме последнего\", a[:-1])"
   ]
  },
  {
   "cell_type": "markdown",
   "metadata": {
    "id": "X4TL4IY0dwpL"
   },
   "source": [
    "## 4. Словари\n",
    "**Словари** это объекты, которые хранят пару значений \"ключ:значение\"."
   ]
  },
  {
   "cell_type": "code",
   "execution_count": 16,
   "metadata": {
    "id": "QK9owVwta_vz"
   },
   "outputs": [
    {
     "name": "stdout",
     "output_type": "stream",
     "text": [
      "{'name': 'Japan', 'capital': 'Tokyo'}\n",
      "Japan\n",
      "Tokyo\n"
     ]
    }
   ],
   "source": [
    "# Создаем словарь\n",
    "country_info = {\"name\": \"Japan\",\n",
    "        \"capital\": \"Tokyo\"}\n",
    "\n",
    "print(country_info)\n",
    "print(country_info[\"name\"])\n",
    "print(country_info[\"capital\"])"
   ]
  },
  {
   "cell_type": "code",
   "execution_count": 17,
   "metadata": {
    "id": "D57XXUTFeoA2"
   },
   "outputs": [
    {
     "name": "stdout",
     "output_type": "stream",
     "text": [
      "{'name': 'Japan', 'capital': 'Tokyo', 'population': '126.8M'}\n"
     ]
    }
   ],
   "source": [
    "# Мы можем сохранить несколько переменных и их значений и добавлять новую информацию в словарь\n",
    "\n",
    "country_info['population'] = '126.8M'\n",
    "print(country_info)"
   ]
  },
  {
   "cell_type": "code",
   "execution_count": 18,
   "metadata": {
    "id": "-YxNH48re-JW"
   },
   "outputs": [
    {
     "name": "stdout",
     "output_type": "stream",
     "text": [
      "{'name': 'Japan', 'capital': 'Tokyo', 'population': '100M'}\n"
     ]
    }
   ],
   "source": [
    "# Также просто мы можем менять значение переменных\n",
    "\n",
    "country_info['population'] = '100M'\n",
    "print(country_info)"
   ]
  },
  {
   "cell_type": "code",
   "execution_count": 19,
   "metadata": {
    "id": "EY0CFm0yfMhl"
   },
   "outputs": [
    {
     "name": "stdout",
     "output_type": "stream",
     "text": [
      "{'name': 'Japan', 'capital': 'Tokyo', 'population': '100M', 'regions': ['Hokkaido', 'Tohoku', 'Kanto', 'Chubu', 'Kinki', 'Chugoku', 'Shikoku', 'Kyushu-Okinawa']}\n"
     ]
    }
   ],
   "source": [
    "# Значения могут быть любых типов данных\n",
    "\n",
    "country_info['regions'] = ['Hokkaido', 'Tohoku', 'Kanto', 'Chubu', 'Kinki', 'Chugoku', 'Shikoku', 'Kyushu-Okinawa']\n",
    "print(country_info)"
   ]
  },
  {
   "cell_type": "code",
   "execution_count": 20,
   "metadata": {
    "id": "AvpiV2SRftmu"
   },
   "outputs": [
    {
     "name": "stdout",
     "output_type": "stream",
     "text": [
      "{'name': 'Japan', 'capital': 'Tokyo', 'population': '100M', 'regions': ['Hokkaido', 'Tohoku', 'Kanto', 'Chubu', 'Kinki', 'Chugoku', 'Shikoku', 'Kyushu-Okinawa'], 'health': {'life_expectancy': 84.1, 'birth_rate': 1.44}}\n"
     ]
    }
   ],
   "source": [
    "# Можно также создавть вложенные словари\n",
    "\n",
    "country_info['health'] = {\"life_expectancy\": 84.1, \"birth_rate\": 1.44}\n",
    "print(country_info)"
   ]
  },
  {
   "cell_type": "code",
   "execution_count": 21,
   "metadata": {
    "id": "TDCk7sg2dK1p"
   },
   "outputs": [
    {
     "name": "stdout",
     "output_type": "stream",
     "text": [
      "{'name': 'Japan', 'capital': 'Tokyo', 'population': '100M', 'regions': ['Hokkaido', 'Tohoku', 'Kanto', 'Chubu', 'Kinki', 'Chugoku', 'Shikoku', 'Kyushu-Okinawa'], 'health': {'life_expectancy': 84.1, 'birth_rate': 1.44}}\n"
     ]
    }
   ],
   "source": [
    "print(country_info)"
   ]
  },
  {
   "cell_type": "code",
   "execution_count": 22,
   "metadata": {
    "id": "wYaLR6ALgnIq"
   },
   "outputs": [
    {
     "data": {
      "text/plain": [
       "84.1"
      ]
     },
     "execution_count": 22,
     "metadata": {},
     "output_type": "execute_result"
    }
   ],
   "source": [
    "# Доступ к данным вложенного словаря\n",
    "\n",
    "country_info['health']['life_expectancy']"
   ]
  },
  {
   "cell_type": "code",
   "execution_count": 23,
   "metadata": {
    "id": "J1xtocJrdsbj"
   },
   "outputs": [
    {
     "data": {
      "text/plain": [
       "dict_values(['Japan', 'Tokyo', '100M', ['Hokkaido', 'Tohoku', 'Kanto', 'Chubu', 'Kinki', 'Chugoku', 'Shikoku', 'Kyushu-Okinawa'], {'life_expectancy': 84.1, 'birth_rate': 1.44}])"
      ]
     },
     "execution_count": 23,
     "metadata": {},
     "output_type": "execute_result"
    }
   ],
   "source": [
    "country_info.values()"
   ]
  },
  {
   "cell_type": "markdown",
   "metadata": {
    "id": "tBMyCaI4gzu9"
   },
   "source": [
    "# 5. Операторы условий - If & Else\n",
    "\n",
    "Операторы if окажутся неоценимыми в программировании при работе с ситуациями, когда необходимо проводить вычисления в зависимости от разных условий."
   ]
  },
  {
   "cell_type": "code",
   "execution_count": 24,
   "metadata": {
    "id": "p180-t79gtHU"
   },
   "outputs": [
    {
     "name": "stdout",
     "output_type": "stream",
     "text": [
      "больше или равно 10\n"
     ]
    }
   ],
   "source": [
    "# Использование оператора if\n",
    "\n",
    "x = 19\n",
    "\n",
    "if x < 10:\n",
    "    print(\"меньше 10\")\n",
    "else:\n",
    "  print(\"больше или равно 10\")"
   ]
  },
  {
   "cell_type": "code",
   "execution_count": 25,
   "metadata": {
    "id": "dFFVcDaAhuhn"
   },
   "outputs": [
    {
     "name": "stdout",
     "output_type": "stream",
     "text": [
      "больше или равно 20\n"
     ]
    }
   ],
   "source": [
    "x = 29\n",
    "\n",
    "if x < 10:\n",
    "    print(\"меньше 10\")\n",
    "elif x > 10 and x <= 19:\n",
    "    print(\"больше 10, но меньше 20\")\n",
    "else:\n",
    "    print(\"больше или равно 20\")"
   ]
  },
  {
   "cell_type": "code",
   "execution_count": 26,
   "metadata": {
    "id": "NQv4SZENhgLV"
   },
   "outputs": [
    {
     "name": "stdout",
     "output_type": "stream",
     "text": [
      "утверждение верное\n"
     ]
    }
   ],
   "source": [
    "# Использование логических значений операторов условий\n",
    "\n",
    "a = True\n",
    "if a:\n",
    "  print(\"утверждение верное\")"
   ]
  },
  {
   "cell_type": "markdown",
   "metadata": {
    "id": "kLg-FVSMiall"
   },
   "source": [
    "# 6. Циклы\n",
    "\n",
    "Циклы-это еще один бесценный инструмент в программировании, давайте рассмотрим несколько способов реализации циклов в Python"
   ]
  },
  {
   "cell_type": "code",
   "execution_count": 27,
   "metadata": {
    "id": "ZZ5ogCPfiYI6"
   },
   "outputs": [
    {
     "name": "stdout",
     "output_type": "stream",
     "text": [
      "[0, 1, 2, 3, 4]\n",
      "[1, 2, 3, 4]\n"
     ]
    }
   ],
   "source": [
    "# Использование функции range\n",
    "\n",
    "print(list(range(5)))\n",
    "\n",
    "# Либо так\n",
    "\n",
    "print(list(range(1,5)))"
   ]
  },
  {
   "cell_type": "code",
   "execution_count": 28,
   "metadata": {
    "id": "JBU80c3oipiM"
   },
   "outputs": [
    {
     "name": "stdout",
     "output_type": "stream",
     "text": [
      "0\n",
      "1\n",
      "2\n",
      "3\n",
      "4\n"
     ]
    }
   ],
   "source": [
    "for i in range(0,5):\n",
    "  print(i)"
   ]
  },
  {
   "cell_type": "code",
   "execution_count": 29,
   "metadata": {
    "id": "5M3Hw2J_i9Rr"
   },
   "outputs": [
    {
     "name": "stdout",
     "output_type": "stream",
     "text": [
      "a\n",
      "b\n",
      "c\n",
      "d\n"
     ]
    }
   ],
   "source": [
    "# С помощью циклов в питоне можно напрямую перебирать элементы в списке\n",
    "\n",
    "items = ['a','b', 'c', 'd']\n",
    "for item in items:\n",
    "  print(item)"
   ]
  },
  {
   "cell_type": "code",
   "execution_count": 30,
   "metadata": {
    "colab": {
     "base_uri": "https://localhost:8080/"
    },
    "executionInfo": {
     "elapsed": 10,
     "status": "ok",
     "timestamp": 1633532816579,
     "user": {
      "displayName": "Anna Bogatkina",
      "photoUrl": "https://lh3.googleusercontent.com/a-/AOh14GhCrVQ43IyQRpNNPdazw5mJx9rZykIz_f8bSAD1KNM=s64",
      "userId": "12751365131747006629"
     },
     "user_tz": -180
    },
    "id": "RLmP9dWPjpho",
    "outputId": "14fb74e9-e82c-4b1a-b8ff-42243eb2cecf"
   },
   "outputs": [
    {
     "name": "stdout",
     "output_type": "stream",
     "text": [
      "1 a\n",
      "2 b\n",
      "3 c\n",
      "4 d\n",
      "[1, 2, 3, 4]\n"
     ]
    }
   ],
   "source": [
    "# Увеличение значения переменных в цикле и сохранение их в списке\n",
    "\n",
    "x = 0\n",
    "collecting_values_of_x = []\n",
    "\n",
    "items = ['a','b', 'c', 'd']\n",
    "for item in items:\n",
    "  x += 1\n",
    "  print(x, item)\n",
    "  collecting_values_of_x.append(x)\n",
    "\n",
    "print(collecting_values_of_x)"
   ]
  },
  {
   "cell_type": "code",
   "execution_count": 31,
   "metadata": {
    "id": "m7PHFl_9jZOY"
   },
   "outputs": [
    {
     "name": "stdout",
     "output_type": "stream",
     "text": [
      "1\n",
      "2\n",
      "3\n",
      "4\n",
      "5\n"
     ]
    }
   ],
   "source": [
    "# Реализация циклов с помощью оператора While\n",
    "\n",
    "x = 0\n",
    "while x < 5:\n",
    "    x += 1\n",
    "    print(x)"
   ]
  },
  {
   "cell_type": "code",
   "execution_count": 32,
   "metadata": {
    "colab": {
     "base_uri": "https://localhost:8080/"
    },
    "executionInfo": {
     "elapsed": 225,
     "status": "ok",
     "timestamp": 1633532869942,
     "user": {
      "displayName": "Anna Bogatkina",
      "photoUrl": "https://lh3.googleusercontent.com/a-/AOh14GhCrVQ43IyQRpNNPdazw5mJx9rZykIz_f8bSAD1KNM=s64",
      "userId": "12751365131747006629"
     },
     "user_tz": -180
    },
    "id": "QV9S4x-xkEWW",
    "outputId": "3a804b3a-b238-405b-cb72-57f8258162aa"
   },
   "outputs": [
    {
     "name": "stdout",
     "output_type": "stream",
     "text": [
      "1\n",
      "2\n",
      "3\n",
      "4\n",
      "5\n"
     ]
    }
   ],
   "source": [
    "x = 0\n",
    "while True:\n",
    "    if x == 5:\n",
    "      break\n",
    "    x += 1\n",
    "    print(x)"
   ]
  },
  {
   "cell_type": "markdown",
   "metadata": {
    "id": "x7i46vgQkvJs"
   },
   "source": [
    "# 7. Функции\n",
    "\n",
    "**Функции** чрезвычайно полезны при создании фрагментов кода, которые вы хотите вызывать или использовать несколько раз"
   ]
  },
  {
   "cell_type": "code",
   "execution_count": 33,
   "metadata": {
    "id": "Jt_UfXekkVBG"
   },
   "outputs": [],
   "source": [
    "# Простая функция для возврата площади круга\n",
    "\n",
    "def areaCircle(radius):\n",
    "  area = 3.14 * (radius**2)\n",
    "  return area\n"
   ]
  },
  {
   "cell_type": "code",
   "execution_count": 34,
   "metadata": {
    "id": "GLyvb1VplEDr"
   },
   "outputs": [
    {
     "data": {
      "text/plain": [
       "12.56"
      ]
     },
     "execution_count": 34,
     "metadata": {},
     "output_type": "execute_result"
    }
   ],
   "source": [
    "areaCircle(2)"
   ]
  },
  {
   "cell_type": "code",
   "execution_count": 35,
   "metadata": {
    "id": "QtzNLj7FlFz4"
   },
   "outputs": [],
   "source": [
    "# Более сложные варианты функций - объем цилиндра\n",
    "\n",
    "def volumeCylinder(radius, height):\n",
    "  volume = 3.14 * radius**2 * height\n",
    "  return volume"
   ]
  },
  {
   "cell_type": "code",
   "execution_count": 36,
   "metadata": {
    "id": "OGYfKiqdv-Ma"
   },
   "outputs": [
    {
     "data": {
      "text/plain": [
       "471.0"
      ]
     },
     "execution_count": 36,
     "metadata": {},
     "output_type": "execute_result"
    }
   ],
   "source": [
    "volumeCylinder(radius = 5, height = 6)"
   ]
  },
  {
   "cell_type": "code",
   "execution_count": 37,
   "metadata": {
    "executionInfo": {
     "elapsed": 216,
     "status": "ok",
     "timestamp": 1633532995580,
     "user": {
      "displayName": "Anna Bogatkina",
      "photoUrl": "https://lh3.googleusercontent.com/a-/AOh14GhCrVQ43IyQRpNNPdazw5mJx9rZykIz_f8bSAD1KNM=s64",
      "userId": "12751365131747006629"
     },
     "user_tz": -180
    },
    "id": "swh6MO3plI0b"
   },
   "outputs": [],
   "source": [
    "# Функции с дефолтными аргументами\n",
    "\n",
    "def volumeCylinder(radius, height = 3):\n",
    "  volume = 3.14 * radius**2 * height\n",
    "  return volume"
   ]
  },
  {
   "cell_type": "code",
   "execution_count": 38,
   "metadata": {
    "colab": {
     "base_uri": "https://localhost:8080/"
    },
    "executionInfo": {
     "elapsed": 214,
     "status": "ok",
     "timestamp": 1633533000095,
     "user": {
      "displayName": "Anna Bogatkina",
      "photoUrl": "https://lh3.googleusercontent.com/a-/AOh14GhCrVQ43IyQRpNNPdazw5mJx9rZykIz_f8bSAD1KNM=s64",
      "userId": "12751365131747006629"
     },
     "user_tz": -180
    },
    "id": "qH6howJ_s94T",
    "outputId": "2891a97a-a32f-4d09-a6ed-f1eb6c5fac20"
   },
   "outputs": [
    {
     "data": {
      "text/plain": [
       "235.5"
      ]
     },
     "execution_count": 38,
     "metadata": {},
     "output_type": "execute_result"
    }
   ],
   "source": [
    "volumeCylinder(5)"
   ]
  },
  {
   "cell_type": "code",
   "execution_count": 39,
   "metadata": {
    "colab": {
     "base_uri": "https://localhost:8080/"
    },
    "executionInfo": {
     "elapsed": 271,
     "status": "ok",
     "timestamp": 1633533002665,
     "user": {
      "displayName": "Anna Bogatkina",
      "photoUrl": "https://lh3.googleusercontent.com/a-/AOh14GhCrVQ43IyQRpNNPdazw5mJx9rZykIz_f8bSAD1KNM=s64",
      "userId": "12751365131747006629"
     },
     "user_tz": -180
    },
    "id": "wwRxu_Eys-HM",
    "outputId": "fd74a7f0-af46-4fc7-dc7f-656f26bca729"
   },
   "outputs": [
    {
     "data": {
      "text/plain": [
       "785.0"
      ]
     },
     "execution_count": 39,
     "metadata": {},
     "output_type": "execute_result"
    }
   ],
   "source": [
    "volumeCylinder(5,10)"
   ]
  }
 ],
 "metadata": {
  "colab": {
   "collapsed_sections": [],
   "name": "Урок 1. Python.  Повторяем основы",
   "provenance": [
    {
     "file_id": "1LNmzL6MeM_kiucTzSFnF3YwUBE4PY18_",
     "timestamp": 1601830069703
    }
   ]
  },
  "kernelspec": {
   "display_name": "Python 3 (ipykernel)",
   "language": "python",
   "name": "python3"
  },
  "language_info": {
   "codemirror_mode": {
    "name": "ipython",
    "version": 3
   },
   "file_extension": ".py",
   "mimetype": "text/x-python",
   "name": "python",
   "nbconvert_exporter": "python",
   "pygments_lexer": "ipython3",
   "version": "3.9.13"
  }
 },
 "nbformat": 4,
 "nbformat_minor": 1
}
