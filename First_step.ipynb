{
 "cells": [
  {
   "cell_type": "code",
   "execution_count": 1,
   "id": "5927087e",
   "metadata": {},
   "outputs": [
    {
     "name": "stdout",
     "output_type": "stream",
     "text": [
      "30 <class 'int'>\n",
      "[(30, <class 'int'>)]\n"
     ]
    }
   ],
   "source": [
    "history=[]\n",
    "a = 10\n",
    "b = 20\n",
    "result = a + b\n",
    "print(result,type(result))\n",
    "history.append((result,type(result)))\n",
    "print(history)"
   ]
  },
  {
   "cell_type": "code",
   "execution_count": 2,
   "id": "d018c2a9",
   "metadata": {},
   "outputs": [
    {
     "name": "stdout",
     "output_type": "stream",
     "text": [
      "30.8 <class 'float'>\n",
      "[(30, <class 'int'>), (30.8, <class 'float'>)]\n"
     ]
    }
   ],
   "source": [
    "a = 10.5\n",
    "b = 20.3\n",
    "result = a + b\n",
    "print(result,type(result))\n",
    "history.append((result,type(result)))\n",
    "print(history)"
   ]
  },
  {
   "cell_type": "code",
   "execution_count": 3,
   "id": "e0974d69",
   "metadata": {},
   "outputs": [
    {
     "name": "stdout",
     "output_type": "stream",
     "text": [
      "jopa ebanaya <class 'str'>\n",
      "[(30, <class 'int'>), (30.8, <class 'float'>), ('jopa ebanaya', <class 'str'>)]\n"
     ]
    }
   ],
   "source": [
    "a = \"jopa\"\n",
    "b = \"ebanaya\"\n",
    "c = \" \"\n",
    "result = a + c + b\n",
    "print(result,type(result))\n",
    "history.append((result,type(result)))\n",
    "print(history)"
   ]
  },
  {
   "cell_type": "code",
   "execution_count": 4,
   "id": "18e9cfc0",
   "metadata": {},
   "outputs": [
    {
     "name": "stdout",
     "output_type": "stream",
     "text": [
      "<class 'float'>\n"
     ]
    }
   ],
   "source": [
    "oper_type = history[1][1]\n",
    "print(oper_type)"
   ]
  },
  {
   "cell_type": "code",
   "execution_count": 5,
   "id": "923826e7",
   "metadata": {},
   "outputs": [
    {
     "name": "stdout",
     "output_type": "stream",
     "text": [
      "{<class 'int'>: 30, <class 'float'>: 30.8, <class 'str'>: 'jopa ebanaya'}\n"
     ]
    }
   ],
   "source": [
    "_dict = {history[0][1]:history[0][0],\n",
    "         history[1][1]:history[1][0],\n",
    "         history[2][1]:history[2][0]}\n",
    "print(_dict)"
   ]
  },
  {
   "cell_type": "code",
   "execution_count": 6,
   "id": "0dd8683b",
   "metadata": {},
   "outputs": [
    {
     "data": {
      "text/plain": [
       "30.8"
      ]
     },
     "execution_count": 6,
     "metadata": {},
     "output_type": "execute_result"
    }
   ],
   "source": [
    "_dict[type(20.)]"
   ]
  },
  {
   "cell_type": "code",
   "execution_count": 7,
   "id": "e73f9cbf",
   "metadata": {},
   "outputs": [
    {
     "name": "stdout",
     "output_type": "stream",
     "text": [
      "h_less_or_equal_50\n",
      "hui\n"
     ]
    }
   ],
   "source": [
    "h = 30\n",
    "if h <= 50:\n",
    "    print(\"h_less_or_equal_50\")\n",
    "elif h<100:\n",
    "    print(\"h_less_100\")\n",
    "else:\n",
    "    print(\"h_more_or_equal_100\")\n",
    "\n",
    "if (h > 25 and h < 50) or h%2==0:\n",
    "    print(\"hui\")"
   ]
  },
  {
   "cell_type": "code",
   "execution_count": 8,
   "id": "f68a5347",
   "metadata": {},
   "outputs": [
    {
     "name": "stdout",
     "output_type": "stream",
     "text": [
      "2\n",
      "4\n",
      "8\n",
      "16\n",
      "32\n",
      "64\n"
     ]
    }
   ],
   "source": [
    "i = 2\n",
    "while i < 100: \n",
    "    print(i)\n",
    "    i *= 2"
   ]
  },
  {
   "cell_type": "code",
   "execution_count": 9,
   "id": "9124a7f1",
   "metadata": {},
   "outputs": [
    {
     "data": {
      "text/plain": [
       "3"
      ]
     },
     "execution_count": 9,
     "metadata": {},
     "output_type": "execute_result"
    }
   ],
   "source": [
    "_list = [3,\n",
    "         6,\n",
    "         9]\n",
    "len(_list)"
   ]
  },
  {
   "cell_type": "code",
   "execution_count": 10,
   "id": "caa80974",
   "metadata": {},
   "outputs": [
    {
     "name": "stdout",
     "output_type": "stream",
     "text": [
      "0 3\n",
      "1 6\n",
      "2 9\n"
     ]
    }
   ],
   "source": [
    "i = 0\n",
    "while i < len(_list):\n",
    "    print(i,_list[i])\n",
    "    i += 1"
   ]
  },
  {
   "cell_type": "code",
   "execution_count": 23,
   "id": "311fc0d6",
   "metadata": {},
   "outputs": [
    {
     "name": "stdout",
     "output_type": "stream",
     "text": [
      "44\n"
     ]
    }
   ],
   "source": [
    "\n",
    "for element in range(0,10**125):\n",
    "    if element / 11 == 4:\n",
    "        print(element)\n",
    "        break"
   ]
  },
  {
   "cell_type": "code",
   "execution_count": 18,
   "id": "80560f04",
   "metadata": {},
   "outputs": [
    {
     "name": "stdout",
     "output_type": "stream",
     "text": [
      "0 3\n",
      "1 6\n",
      "2 9\n"
     ]
    }
   ],
   "source": [
    "i = 0\n",
    "while True:\n",
    "    print(i,_list[i])\n",
    "    i += 1\n",
    "    if i == len(_list):\n",
    "        break"
   ]
  },
  {
   "cell_type": "code",
   "execution_count": 24,
   "id": "58a93339",
   "metadata": {},
   "outputs": [],
   "source": [
    "_list = []"
   ]
  },
  {
   "cell_type": "code",
   "execution_count": 36,
   "id": "542cf033",
   "metadata": {},
   "outputs": [],
   "source": [
    "def calc(numb_1, numb_2):\n",
    "    result = numb_1 * numb_2\n",
    "    return result\n",
    "def pcalc(numb_1, numb_2):\n",
    "    result = numb_1 * numb_2\n",
    "    print(result)\n",
    "def hello(): \n",
    "    print(\"hello\")"
   ]
  },
  {
   "cell_type": "code",
   "execution_count": 39,
   "id": "a6a238fa",
   "metadata": {},
   "outputs": [
    {
     "name": "stdout",
     "output_type": "stream",
     "text": [
      "50\n",
      "50\n",
      "50\n",
      "50\n",
      "hello\n"
     ]
    }
   ],
   "source": [
    "a = 5\n",
    "b = 10\n",
    "_list = [a,b]\n",
    "print(calc(5,10))\n",
    "print(calc(a,b))\n",
    "print(calc(_list[0],_list[1]))\n",
    "pcalc(5,10)\n",
    "hello()"
   ]
  },
  {
   "cell_type": "code",
   "execution_count": 1,
   "id": "15dfbb23",
   "metadata": {},
   "outputs": [
    {
     "name": "stdout",
     "output_type": "stream",
     "text": [
      "enter your name: Хватаев Алексей Андреевич\n"
     ]
    }
   ],
   "source": [
    "name = input(\"enter your name: \")"
   ]
  },
  {
   "cell_type": "code",
   "execution_count": 2,
   "id": "bdd0c47a",
   "metadata": {},
   "outputs": [
    {
     "name": "stdout",
     "output_type": "stream",
     "text": [
      "Хватаев Алексей Андреевич\n"
     ]
    }
   ],
   "source": [
    "print(name)"
   ]
  },
  {
   "cell_type": "code",
   "execution_count": 3,
   "id": "8d64b8a2",
   "metadata": {},
   "outputs": [
    {
     "name": "stdout",
     "output_type": "stream",
     "text": [
      "Х\n"
     ]
    }
   ],
   "source": [
    "print (name[0])"
   ]
  },
  {
   "cell_type": "code",
   "execution_count": 5,
   "id": "a21c997a",
   "metadata": {},
   "outputs": [
    {
     "name": "stdout",
     "output_type": "stream",
     "text": [
      "Х\n",
      "в\n",
      "а\n",
      "т\n",
      "а\n",
      "е\n",
      "в\n",
      " \n",
      "А\n",
      "л\n",
      "е\n",
      "к\n",
      "с\n",
      "е\n",
      "й\n",
      " \n",
      "А\n",
      "н\n",
      "д\n",
      "р\n",
      "е\n",
      "е\n",
      "в\n",
      "и\n",
      "ч\n"
     ]
    }
   ],
   "source": [
    "for char in name:\n",
    "    print(char)"
   ]
  },
  {
   "cell_type": "code",
   "execution_count": 9,
   "id": "6c282772",
   "metadata": {},
   "outputs": [
    {
     "name": "stdout",
     "output_type": "stream",
     "text": [
      "0.85\n"
     ]
    }
   ],
   "source": [
    "def convert(usd, course = 0.95):\n",
    "    euro = usd / course\n",
    "    return round(euro, 2)\n",
    "print(convert(1,))"
   ]
  },
  {
   "cell_type": "code",
   "execution_count": null,
   "id": "834a19e5",
   "metadata": {},
   "outputs": [],
   "source": []
  }
 ],
 "metadata": {
  "kernelspec": {
   "display_name": "Python 3 (ipykernel)",
   "language": "python",
   "name": "python3"
  },
  "language_info": {
   "codemirror_mode": {
    "name": "ipython",
    "version": 3
   },
   "file_extension": ".py",
   "mimetype": "text/x-python",
   "name": "python",
   "nbconvert_exporter": "python",
   "pygments_lexer": "ipython3",
   "version": "3.9.13"
  }
 },
 "nbformat": 4,
 "nbformat_minor": 5
}
